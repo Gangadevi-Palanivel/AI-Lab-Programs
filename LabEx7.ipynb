{
 "cells": [
  {
   "cell_type": "code",
   "execution_count": 1,
   "id": "e18f94c2-1b92-4af8-859d-f39fb6d2d1f3",
   "metadata": {},
   "outputs": [
    {
     "name": "stdout",
     "output_type": "stream",
     "text": [
      "Collecting python-constraint\n",
      "  Using cached python-constraint-1.4.0.tar.bz2 (18 kB)\n",
      "  Preparing metadata (setup.py): started\n",
      "  Preparing metadata (setup.py): finished with status 'done'\n",
      "Building wheels for collected packages: python-constraint\n",
      "  Building wheel for python-constraint (setup.py): started\n",
      "  Building wheel for python-constraint (setup.py): finished with status 'done'\n",
      "  Created wheel for python-constraint: filename=python_constraint-1.4.0-py2.py3-none-any.whl size=24084 sha256=537ec03c57e31f7101ffd015ff539f060ec4198b4d10f23a157e6f36025a3738\n",
      "  Stored in directory: c:\\users\\hemag\\appdata\\local\\pip\\cache\\wheels\\c1\\d2\\3d\\082849b61a9c6de02d4a7c8a402c224640f08d8a971307b92b\n",
      "Successfully built python-constraint\n",
      "Installing collected packages: python-constraint\n",
      "Successfully installed python-constraint-1.4.0\n"
     ]
    }
   ],
   "source": [
    "!pip install python-constraint\n"
   ]
  },
  {
   "cell_type": "code",
   "execution_count": 3,
   "id": "915d48d7-ed96-473d-a2e5-ed28e71b7f4c",
   "metadata": {},
   "outputs": [
    {
     "name": "stdout",
     "output_type": "stream",
     "text": [
      "{'b': 3, 'c': 2, 'a': 4}\n",
      "{'b': 3, 'c': 2, 'a': 1}\n",
      "{'b': 3, 'c': 1, 'a': 2}\n",
      "{'b': 3, 'c': 1, 'a': 4}\n",
      "{'b': 2, 'c': 1, 'a': 3}\n",
      "{'b': 2, 'c': 1, 'a': 4}\n"
     ]
    }
   ],
   "source": [
    "from constraint import Problem, AllDifferentConstraint\n",
    "\n",
    "def constraint_function(variables, domains, assignments):\n",
    "    # Define your constraints here\n",
    "    # Example: variables[0] + variables[1] == variables[2]\n",
    "    return True\n",
    "\n",
    "def main():\n",
    "    # Create a problem instance\n",
    "    problem = Problem()\n",
    "\n",
    "    # Add variables to the problem\n",
    "    problem.addVariable('a', range(1, 5))\n",
    "    problem.addVariable('b', range(2, 4))\n",
    "    problem.addVariable('c', range(1, 3))\n",
    "\n",
    "    # Add a constraint function to the problem\n",
    "    problem.addConstraint(constraint_function, ['a', 'b', 'c'])\n",
    "\n",
    "    # Optionally, add an \"All Different\" constraint\n",
    "    problem.addConstraint(AllDifferentConstraint(), ['a', 'b', 'c'])\n",
    "\n",
    "    # Solve the problem\n",
    "    solutions = problem.getSolutions()\n",
    "\n",
    "    # Print the solutions\n",
    "    for solution in solutions:\n",
    "        print(solution)\n",
    "\n",
    "if __name__ == \"__main__\":\n",
    "    main()\n"
   ]
  },
  {
   "cell_type": "code",
   "execution_count": null,
   "id": "88f33806-ec47-4a0d-b91e-ed9de551778e",
   "metadata": {},
   "outputs": [],
   "source": []
  }
 ],
 "metadata": {
  "kernelspec": {
   "display_name": "Python [conda env:base] *",
   "language": "python",
   "name": "conda-base-py"
  },
  "language_info": {
   "codemirror_mode": {
    "name": "ipython",
    "version": 3
   },
   "file_extension": ".py",
   "mimetype": "text/x-python",
   "name": "python",
   "nbconvert_exporter": "python",
   "pygments_lexer": "ipython3",
   "version": "3.12.7"
  }
 },
 "nbformat": 4,
 "nbformat_minor": 5
}
