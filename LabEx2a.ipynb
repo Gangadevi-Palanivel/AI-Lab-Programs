{
 "cells": [
  {
   "cell_type": "code",
   "execution_count": 1,
   "id": "fdf787f6-06e2-4476-a0bb-e829cbed83da",
   "metadata": {},
   "outputs": [
    {
     "name": "stdout",
     "output_type": "stream",
     "text": [
      "Following is Breadth First Traversal (starting from vertex 2)\n",
      "2 0 3 1 "
     ]
    }
   ],
   "source": [
    "# Python3 Program to print BFS traversal from a given source vertex.\n",
    "# BFS(int s) traverses vertices reachable from s.\n",
    "from collections import defaultdict\n",
    "\n",
    "# This class represents a directed graph using adjacency list representation\n",
    "class Graph:\n",
    "\n",
    "    # Constructor\n",
    "    def __init__(self):\n",
    "        # Default dictionary to store graph\n",
    "        self.graph = defaultdict(list)\n",
    "        # List to check if a node is already visited or not\n",
    "        self.visited = []\n",
    "\n",
    "    # Function to add an edge to graph\n",
    "    def addEdge(self, u, v):\n",
    "        self.graph[u].append(v)\n",
    "\n",
    "    # Function to print a BFS of graph\n",
    "    def BFS(self, s):\n",
    "        # Create a queue for BFS\n",
    "        queue = []\n",
    "\n",
    "        # Add the source node in visited and enqueue it\n",
    "        queue.append(s)\n",
    "        self.visited.append(s)\n",
    "\n",
    "        while queue:\n",
    "            # Dequeue a vertex from queue and print it\n",
    "            s = queue.pop(0)\n",
    "            print(s, end=\" \")\n",
    "\n",
    "            # Get all adjacent vertices of the dequeued vertex s\n",
    "            # If an adjacent node has not been visited, then mark it visited and enqueue it\n",
    "            for i in self.graph[s]:\n",
    "                if i not in self.visited:\n",
    "                    queue.append(i)\n",
    "                    self.visited.append(i)  # Fixed: Added the correct node to visited list\n",
    "\n",
    "# Driver code\n",
    "\n",
    "# Create a graph given in the above diagram\n",
    "g = Graph()\n",
    "g.addEdge(0, 1)\n",
    "g.addEdge(0, 2)\n",
    "g.addEdge(1, 2)\n",
    "g.addEdge(2, 0)\n",
    "g.addEdge(2, 3)\n",
    "g.addEdge(3, 3)\n",
    "\n",
    "print(\"Following is Breadth First Traversal (starting from vertex 2)\")\n",
    "\n",
    "g.BFS(2)\n"
   ]
  },
  {
   "cell_type": "code",
   "execution_count": null,
   "id": "23cca3bc-f7c1-4a62-9ebe-c10b0b977972",
   "metadata": {},
   "outputs": [],
   "source": []
  }
 ],
 "metadata": {
  "kernelspec": {
   "display_name": "Python [conda env:base] *",
   "language": "python",
   "name": "conda-base-py"
  },
  "language_info": {
   "codemirror_mode": {
    "name": "ipython",
    "version": 3
   },
   "file_extension": ".py",
   "mimetype": "text/x-python",
   "name": "python",
   "nbconvert_exporter": "python",
   "pygments_lexer": "ipython3",
   "version": "3.12.7"
  }
 },
 "nbformat": 4,
 "nbformat_minor": 5
}
